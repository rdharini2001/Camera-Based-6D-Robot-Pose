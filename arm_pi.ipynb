{
 "cells": [
  {
   "cell_type": "code",
   "execution_count": 3,
   "metadata": {},
   "outputs": [
    {
     "name": "stdout",
     "output_type": "stream",
     "text": [
      "/home/rbccps/.local/lib/python3.8/site-packages/torchvision/models/_utils.py:135: UserWarning: Using 'weights' as positional parameter(s) is deprecated since 0.13 and may be removed in the future. Please use keyword parameter(s) instead.\n",
      "  warnings.warn(\n",
      "/home/rbccps/.local/lib/python3.8/site-packages/torchvision/models/_utils.py:223: UserWarning: Arguments other than a weight enum or `None` for 'weights' are deprecated since 0.13 and may be removed in the future. The current behavior is equivalent to passing `weights=VGG11_BN_Weights.IMAGENET1K_V1`. You can also use `weights=VGG11_BN_Weights.DEFAULT` to get the most up-to-date weights.\n",
      "  warnings.warn(msg)\n",
      "Downloading: \"https://download.pytorch.org/models/vgg11_bn-6002323d.pth\" to /home/rbccps/.cache/torch/hub/checkpoints/vgg11_bn-6002323d.pth\n",
      "100%|████████████████████████████████████████| 507M/507M [01:14<00:00, 7.09MB/s]\n",
      "load from detector_pretrain/model_best.pth step 240000\n",
      "load from selector_pretrain/model_best.pth step 270000\n",
      "load from refiner_pretrain/model_best.pth step 260000\n",
      "split video data/custom/video/mouse-test.mp4 into images ...\n",
      "  0%|                                                   | 0/943 [00:00<?, ?it/s]/home/rbccps/.local/lib/python3.8/site-packages/torch/functional.py:504: UserWarning: torch.meshgrid: in an upcoming release, it will be required to pass the indexing argument. (Triggered internally at ../aten/src/ATen/native/TensorShape.cpp:3483.)\n",
      "  return _VF.meshgrid(tensors, **kwargs)  # type: ignore[attr-defined]\n",
      "100%|█████████████████████████████████████████| 943/943 [01:39<00:00,  9.49it/s]\n",
      "ffmpeg version 4.2.7-0ubuntu0.1 Copyright (c) 2000-2022 the FFmpeg developers\n",
      "  built with gcc 9 (Ubuntu 9.4.0-1ubuntu1~20.04.1)\n",
      "  configuration: --prefix=/usr --extra-version=0ubuntu0.1 --toolchain=hardened --libdir=/usr/lib/x86_64-linux-gnu --incdir=/usr/include/x86_64-linux-gnu --arch=amd64 --enable-gpl --disable-stripping --enable-avresample --disable-filter=resample --enable-avisynth --enable-gnutls --enable-ladspa --enable-libaom --enable-libass --enable-libbluray --enable-libbs2b --enable-libcaca --enable-libcdio --enable-libcodec2 --enable-libflite --enable-libfontconfig --enable-libfreetype --enable-libfribidi --enable-libgme --enable-libgsm --enable-libjack --enable-libmp3lame --enable-libmysofa --enable-libopenjpeg --enable-libopenmpt --enable-libopus --enable-libpulse --enable-librsvg --enable-librubberband --enable-libshine --enable-libsnappy --enable-libsoxr --enable-libspeex --enable-libssh --enable-libtheora --enable-libtwolame --enable-libvidstab --enable-libvorbis --enable-libvpx --enable-libwavpack --enable-libwebp --enable-libx265 --enable-libxml2 --enable-libxvid --enable-libzmq --enable-libzvbi --enable-lv2 --enable-omx --enable-openal --enable-opencl --enable-opengl --enable-sdl2 --enable-libdc1394 --enable-libdrm --enable-libiec61883 --enable-nvenc --enable-chromaprint --enable-frei0r --enable-libx264 --enable-shared\n",
      "  libavutil      56. 31.100 / 56. 31.100\n",
      "  libavcodec     58. 54.100 / 58. 54.100\n",
      "  libavformat    58. 29.100 / 58. 29.100\n",
      "  libavdevice    58.  8.100 / 58.  8.100\n",
      "  libavfilter     7. 57.100 /  7. 57.100\n",
      "  libavresample   4.  0.  0 /  4.  0.  0\n",
      "  libswscale      5.  5.100 /  5.  5.100\n",
      "  libswresample   3.  5.100 /  3.  5.100\n",
      "  libpostproc    55.  5.100 / 55.  5.100\n",
      "Input #0, image2, from 'data/custom/volta/test/images_out_smooth/%d-bbox.jpg':\n",
      "  Duration: 00:00:31.43, start: 0.000000, bitrate: N/A\n",
      "    Stream #0:0: Video: mjpeg (Baseline), yuvj420p(pc, bt470bg/unknown/unknown), 540x960 [SAR 1:1 DAR 9:16], 30 fps, 30 tbr, 30 tbn, 30 tbc\n",
      "Stream mapping:\n",
      "  Stream #0:0 -> #0:0 (mjpeg (native) -> h264 (libx264))\n",
      "Press [q] to stop, [?] for help\n",
      "\u001b[1;34m[swscaler @ 0x5557dce8cdc0] \u001b[0m\u001b[0;33mdeprecated pixel format used, make sure you did set range correctly\n",
      "\u001b[0m\u001b[1;36m[libx264 @ 0x5557dc9c76c0] \u001b[0musing SAR=1/1\n",
      "\u001b[1;36m[libx264 @ 0x5557dc9c76c0] \u001b[0musing cpu capabilities: MMX2 SSE2Fast SSSE3 SSE4.2 AVX FMA3 BMI2 AVX2\n",
      "\u001b[1;36m[libx264 @ 0x5557dc9c76c0] \u001b[0mprofile High, level 3.1\n",
      "\u001b[1;36m[libx264 @ 0x5557dc9c76c0] \u001b[0m264 - core 155 r2917 0a84d98 - H.264/MPEG-4 AVC codec - Copyleft 2003-2018 - http://www.videolan.org/x264.html - options: cabac=1 ref=3 deblock=1:0:0 analyse=0x3:0x113 me=hex subme=7 psy=1 psy_rd=1.00:0.00 mixed_ref=1 me_range=16 chroma_me=1 trellis=1 8x8dct=1 cqm=0 deadzone=21,11 fast_pskip=1 chroma_qp_offset=-2 threads=12 lookahead_threads=2 sliced_threads=0 nr=0 decimate=1 interlaced=0 bluray_compat=0 constrained_intra=0 bframes=3 b_pyramid=2 b_adapt=1 b_bias=0 direct=1 weightb=1 open_gop=0 weightp=2 keyint=250 keyint_min=25 scenecut=40 intra_refresh=0 rc_lookahead=40 rc=crf mbtree=1 crf=23.0 qcomp=0.60 qpmin=0 qpmax=69 qpstep=4 ip_ratio=1.40 aq=1:1.00\n",
      "Output #0, mp4, to 'data/custom/volta/test/video.mp4':\n",
      "  Metadata:\n",
      "    encoder         : Lavf58.29.100\n",
      "    Stream #0:0: Video: h264 (libx264) (avc1 / 0x31637661), yuv420p, 540x960 [SAR 1:1 DAR 9:16], q=-1--1, 30 fps, 15360 tbn, 30 tbc\n",
      "    Metadata:\n",
      "      encoder         : Lavc58.54.100 libx264\n",
      "    Side data:\n",
      "      cpb: bitrate max/min/avg: 0/0/0 buffer size: 0 vbv_delay: -1\n",
      "frame=  943 fps=206 q=-1.0 Lsize=    8566kB time=00:00:31.33 bitrate=2239.5kbits/s speed=6.86x    \n",
      "video:8554kB audio:0kB subtitle:0kB other streams:0kB global headers:0kB muxing overhead: 0.140209%\n",
      "\u001b[1;36m[libx264 @ 0x5557dc9c76c0] \u001b[0mframe I:4     Avg QP:21.99  size: 55552\n",
      "\u001b[1;36m[libx264 @ 0x5557dc9c76c0] \u001b[0mframe P:238   Avg QP:24.15  size: 20285\n",
      "\u001b[1;36m[libx264 @ 0x5557dc9c76c0] \u001b[0mframe B:701   Avg QP:28.05  size:  5290\n",
      "\u001b[1;36m[libx264 @ 0x5557dc9c76c0] \u001b[0mconsecutive B-frames:  0.6%  0.6%  0.3% 98.4%\n",
      "\u001b[1;36m[libx264 @ 0x5557dc9c76c0] \u001b[0mmb I  I16..4:  2.0% 96.7%  1.3%\n",
      "\u001b[1;36m[libx264 @ 0x5557dc9c76c0] \u001b[0mmb P  I16..4:  1.6% 14.6%  1.0%  P16..4: 41.3% 19.6% 13.2%  0.0%  0.0%    skip: 8.8%\n",
      "\u001b[1;36m[libx264 @ 0x5557dc9c76c0] \u001b[0mmb B  I16..4:  0.2%  0.9%  0.1%  B16..8: 35.9%  5.1%  1.7%  direct: 1.6%  skip:54.5%  L0:41.4% L1:51.3% BI: 7.2%\n",
      "\u001b[1;36m[libx264 @ 0x5557dc9c76c0] \u001b[0m8x8 transform intra:84.1% inter:79.3%\n",
      "\u001b[1;36m[libx264 @ 0x5557dc9c76c0] \u001b[0mcoded y,uvDC,uvAC intra: 72.5% 71.9% 29.6% inter: 14.8% 22.6% 8.1%\n",
      "\u001b[1;36m[libx264 @ 0x5557dc9c76c0] \u001b[0mi16 v,h,dc,p: 12% 27%  6% 54%\n",
      "\u001b[1;36m[libx264 @ 0x5557dc9c76c0] \u001b[0mi8 v,h,dc,ddl,ddr,vr,hd,vl,hu: 12% 17% 39%  6%  4%  5%  4%  6%  8%\n",
      "\u001b[1;36m[libx264 @ 0x5557dc9c76c0] \u001b[0mi4 v,h,dc,ddl,ddr,vr,hd,vl,hu: 25% 19% 18%  6%  6%  8%  6%  7%  5%\n",
      "\u001b[1;36m[libx264 @ 0x5557dc9c76c0] \u001b[0mi8c dc,h,v,p: 51% 24% 22%  4%\n",
      "\u001b[1;36m[libx264 @ 0x5557dc9c76c0] \u001b[0mWeighted P-Frames: Y:2.5% UV:0.4%\n",
      "\u001b[1;36m[libx264 @ 0x5557dc9c76c0] \u001b[0mref P L0: 48.7% 18.5% 26.5%  6.3%  0.0%\n",
      "\u001b[1;36m[libx264 @ 0x5557dc9c76c0] \u001b[0mref B L0: 90.8%  7.4%  1.8%\n",
      "\u001b[1;36m[libx264 @ 0x5557dc9c76c0] \u001b[0mref B L1: 97.4%  2.6%\n",
      "\u001b[1;36m[libx264 @ 0x5557dc9c76c0] \u001b[0mkb/s:2229.07\n"
     ]
    }
   ],
   "source": [
    "!python3 Gen6D/predict.py --cfg Gen6D/configs/gen6d_pretrain.yaml \\\n",
    "                  --database custom/mouse_processed \\\n",
    "                  --video data/custom/video/mouse-test.mp4 \\\n",
    "                  --resolution 960 \\\n",
    "                  --transpose \\\n",
    "                  --output data/custom/volta/test"
   ]
  },
  {
   "cell_type": "code",
   "execution_count": 4,
   "metadata": {},
   "outputs": [
    {
     "data": {
      "text/plain": [
       "array([[ 0.5733083 , -0.8084477 , -0.133154  , -0.12640715],\n",
       "       [-0.6705216 , -0.36954445, -0.64330226, -0.61709845],\n",
       "       [ 0.47086987,  0.45809314, -0.75394446,  4.825432  ]],\n",
       "      dtype=float32)"
      ]
     },
     "execution_count": 4,
     "metadata": {},
     "output_type": "execute_result"
    }
   ],
   "source": [
    "import numpy as np\n",
    "np.load('/media/rbccps/Extreme SSD/Gen6D/data/custom/volta/test/images_out/0-pose.npy')"
   ]
  },
  {
   "cell_type": "code",
   "execution_count": 6,
   "metadata": {},
   "outputs": [
    {
     "name": "stdout",
     "output_type": "stream",
     "text": [
      "split video data/custom/video/volta_texture.mp4 into images ...\n"
     ]
    }
   ],
   "source": [
    "# we save one image every 10 frames and maximum image side length is 960\n",
    "!python3 Gen6D/prepare.py --action video2image \\\n",
    "                  --input data/custom/video/volta_texture.mp4 \\\n",
    "                  --output data/custom/volta/images_texture \\\n",
    "                  --frame_inter 10 \\\n",
    "                  --image_size 960 "
   ]
  },
  {
   "cell_type": "code",
   "execution_count": 7,
   "metadata": {},
   "outputs": [
    {
     "name": "stdout",
     "output_type": "stream",
     "text": [
      "/home/rbccps/.local/lib/python3.8/site-packages/torchvision/models/_utils.py:135: UserWarning: Using 'weights' as positional parameter(s) is deprecated since 0.13 and may be removed in the future. Please use keyword parameter(s) instead.\n",
      "  warnings.warn(\n",
      "/home/rbccps/.local/lib/python3.8/site-packages/torchvision/models/_utils.py:223: UserWarning: Arguments other than a weight enum or `None` for 'weights' are deprecated since 0.13 and may be removed in the future. The current behavior is equivalent to passing `weights=VGG11_BN_Weights.IMAGENET1K_V1`. You can also use `weights=VGG11_BN_Weights.DEFAULT` to get the most up-to-date weights.\n",
      "  warnings.warn(msg)\n",
      "load from detector_pretrain/model_best.pth step 240000\n",
      "load from selector_pretrain/model_best.pth step 270000\n",
      "load from refiner_pretrain/model_best.pth step 260000\n",
      "split video data/custom/video/volta_texture.mp4 into images ...\n",
      "  0%|                                                  | 0/2257 [00:00<?, ?it/s]/home/rbccps/.local/lib/python3.8/site-packages/torch/functional.py:504: UserWarning: torch.meshgrid: in an upcoming release, it will be required to pass the indexing argument. (Triggered internally at ../aten/src/ATen/native/TensorShape.cpp:3483.)\n",
      "  return _VF.meshgrid(tensors, **kwargs)  # type: ignore[attr-defined]\n",
      "100%|███████████████████████████████████████| 2257/2257 [03:23<00:00, 11.10it/s]\n",
      "ffmpeg version 4.2.7-0ubuntu0.1 Copyright (c) 2000-2022 the FFmpeg developers\n",
      "  built with gcc 9 (Ubuntu 9.4.0-1ubuntu1~20.04.1)\n",
      "  configuration: --prefix=/usr --extra-version=0ubuntu0.1 --toolchain=hardened --libdir=/usr/lib/x86_64-linux-gnu --incdir=/usr/include/x86_64-linux-gnu --arch=amd64 --enable-gpl --disable-stripping --enable-avresample --disable-filter=resample --enable-avisynth --enable-gnutls --enable-ladspa --enable-libaom --enable-libass --enable-libbluray --enable-libbs2b --enable-libcaca --enable-libcdio --enable-libcodec2 --enable-libflite --enable-libfontconfig --enable-libfreetype --enable-libfribidi --enable-libgme --enable-libgsm --enable-libjack --enable-libmp3lame --enable-libmysofa --enable-libopenjpeg --enable-libopenmpt --enable-libopus --enable-libpulse --enable-librsvg --enable-librubberband --enable-libshine --enable-libsnappy --enable-libsoxr --enable-libspeex --enable-libssh --enable-libtheora --enable-libtwolame --enable-libvidstab --enable-libvorbis --enable-libvpx --enable-libwavpack --enable-libwebp --enable-libx265 --enable-libxml2 --enable-libxvid --enable-libzmq --enable-libzvbi --enable-lv2 --enable-omx --enable-openal --enable-opencl --enable-opengl --enable-sdl2 --enable-libdc1394 --enable-libdrm --enable-libiec61883 --enable-nvenc --enable-chromaprint --enable-frei0r --enable-libx264 --enable-shared\n",
      "  libavutil      56. 31.100 / 56. 31.100\n",
      "  libavcodec     58. 54.100 / 58. 54.100\n",
      "  libavformat    58. 29.100 / 58. 29.100\n",
      "  libavdevice    58.  8.100 / 58.  8.100\n",
      "  libavfilter     7. 57.100 /  7. 57.100\n",
      "  libavresample   4.  0.  0 /  4.  0.  0\n",
      "  libswscale      5.  5.100 /  5.  5.100\n",
      "  libswresample   3.  5.100 /  3.  5.100\n",
      "  libpostproc    55.  5.100 / 55.  5.100\n",
      "Input #0, image2, from 'data/custom/volta/test_1/images_out_smooth/%d-bbox.jpg':\n",
      "  Duration: 00:01:15.23, start: 0.000000, bitrate: N/A\n",
      "    Stream #0:0: Video: mjpeg (Baseline), yuvj420p(pc, bt470bg/unknown/unknown), 960x540 [SAR 1:1 DAR 16:9], 30 fps, 30 tbr, 30 tbn, 30 tbc\n",
      "Stream mapping:\n",
      "  Stream #0:0 -> #0:0 (mjpeg (native) -> h264 (libx264))\n",
      "Press [q] to stop, [?] for help\n",
      "\u001b[1;34m[swscaler @ 0x5569a639c400] \u001b[0m\u001b[0;33mdeprecated pixel format used, make sure you did set range correctly\n",
      "\u001b[0m\u001b[1;36m[libx264 @ 0x5569a5e96040] \u001b[0musing SAR=1/1\n",
      "\u001b[1;36m[libx264 @ 0x5569a5e96040] \u001b[0musing cpu capabilities: MMX2 SSE2Fast SSSE3 SSE4.2 AVX FMA3 BMI2 AVX2\n",
      "\u001b[1;36m[libx264 @ 0x5569a5e96040] \u001b[0mprofile High, level 3.1\n",
      "\u001b[1;36m[libx264 @ 0x5569a5e96040] \u001b[0m264 - core 155 r2917 0a84d98 - H.264/MPEG-4 AVC codec - Copyleft 2003-2018 - http://www.videolan.org/x264.html - options: cabac=1 ref=3 deblock=1:0:0 analyse=0x3:0x113 me=hex subme=7 psy=1 psy_rd=1.00:0.00 mixed_ref=1 me_range=16 chroma_me=1 trellis=1 8x8dct=1 cqm=0 deadzone=21,11 fast_pskip=1 chroma_qp_offset=-2 threads=12 lookahead_threads=2 sliced_threads=0 nr=0 decimate=1 interlaced=0 bluray_compat=0 constrained_intra=0 bframes=3 b_pyramid=2 b_adapt=1 b_bias=0 direct=1 weightb=1 open_gop=0 weightp=2 keyint=250 keyint_min=25 scenecut=40 intra_refresh=0 rc_lookahead=40 rc=crf mbtree=1 crf=23.0 qcomp=0.60 qpmin=0 qpmax=69 qpstep=4 ip_ratio=1.40 aq=1:1.00\n",
      "Output #0, mp4, to 'data/custom/volta/test_1/video.mp4':\n",
      "  Metadata:\n",
      "    encoder         : Lavf58.29.100\n",
      "    Stream #0:0: Video: h264 (libx264) (avc1 / 0x31637661), yuv420p, 960x540 [SAR 1:1 DAR 16:9], q=-1--1, 30 fps, 15360 tbn, 30 tbc\n",
      "    Metadata:\n",
      "      encoder         : Lavc58.54.100 libx264\n",
      "    Side data:\n",
      "      cpb: bitrate max/min/avg: 0/0/0 buffer size: 0 vbv_delay: -1\n",
      "frame= 2257 fps=169 q=-1.0 Lsize=   45826kB time=00:01:15.13 bitrate=4996.5kbits/s speed=5.62x    \n",
      "video:45798kB audio:0kB subtitle:0kB other streams:0kB global headers:0kB muxing overhead: 0.060193%\n",
      "\u001b[1;36m[libx264 @ 0x5569a5e96040] \u001b[0mframe I:11    Avg QP:23.31  size: 62715\n",
      "\u001b[1;36m[libx264 @ 0x5569a5e96040] \u001b[0mframe P:600   Avg QP:25.73  size: 40867\n",
      "\u001b[1;36m[libx264 @ 0x5569a5e96040] \u001b[0mframe B:1646  Avg QP:28.85  size: 13175\n",
      "\u001b[1;36m[libx264 @ 0x5569a5e96040] \u001b[0mconsecutive B-frames:  0.9%  3.4%  6.4% 89.3%\n",
      "\u001b[1;36m[libx264 @ 0x5569a5e96040] \u001b[0mmb I  I16..4:  2.4% 92.4%  5.2%\n",
      "\u001b[1;36m[libx264 @ 0x5569a5e96040] \u001b[0mmb P  I16..4:  3.4% 27.8%  3.6%  P16..4: 28.5% 20.5% 12.0%  0.0%  0.0%    skip: 4.2%\n",
      "\u001b[1;36m[libx264 @ 0x5569a5e96040] \u001b[0mmb B  I16..4:  0.7%  3.2%  0.8%  B16..8: 39.5% 12.0%  4.2%  direct: 6.6%  skip:33.0%  L0:41.4% L1:38.9% BI:19.8%\n",
      "\u001b[1;36m[libx264 @ 0x5569a5e96040] \u001b[0m8x8 transform intra:77.1% inter:75.2%\n",
      "\u001b[1;36m[libx264 @ 0x5569a5e96040] \u001b[0mcoded y,uvDC,uvAC intra: 63.5% 65.0% 22.1% inter: 29.2% 22.3% 5.6%\n",
      "\u001b[1;36m[libx264 @ 0x5569a5e96040] \u001b[0mi16 v,h,dc,p: 24% 35% 21% 20%\n",
      "\u001b[1;36m[libx264 @ 0x5569a5e96040] \u001b[0mi8 v,h,dc,ddl,ddr,vr,hd,vl,hu: 16% 19% 40%  4%  4%  4%  5%  4%  5%\n",
      "\u001b[1;36m[libx264 @ 0x5569a5e96040] \u001b[0mi4 v,h,dc,ddl,ddr,vr,hd,vl,hu: 18% 14% 20%  7% 10%  9%  9%  7%  6%\n",
      "\u001b[1;36m[libx264 @ 0x5569a5e96040] \u001b[0mi8c dc,h,v,p: 52% 23% 20%  4%\n",
      "\u001b[1;36m[libx264 @ 0x5569a5e96040] \u001b[0mWeighted P-Frames: Y:21.2% UV:5.7%\n",
      "\u001b[1;36m[libx264 @ 0x5569a5e96040] \u001b[0mref P L0: 48.0% 13.6% 23.6% 12.8%  1.9%\n",
      "\u001b[1;36m[libx264 @ 0x5569a5e96040] \u001b[0mref B L0: 83.8% 12.7%  3.5%\n",
      "\u001b[1;36m[libx264 @ 0x5569a5e96040] \u001b[0mref B L1: 95.6%  4.4%\n",
      "\u001b[1;36m[libx264 @ 0x5569a5e96040] \u001b[0mkb/s:4986.79\n"
     ]
    }
   ],
   "source": [
    "!python3 Gen6D/predict.py --cfg Gen6D/configs/gen6d_pretrain.yaml \\\n",
    "                  --database custom/volta \\\n",
    "                  --video data/custom/video/volta_texture.mp4 \\\n",
    "                  --resolution 960 \\\n",
    "                  --output data/custom/volta/test_1"
   ]
  },
  {
   "cell_type": "code",
   "execution_count": 8,
   "metadata": {},
   "outputs": [
    {
     "name": "stdout",
     "output_type": "stream",
     "text": [
      "/home/rbccps/.local/lib/python3.8/site-packages/torchvision/models/_utils.py:135: UserWarning: Using 'weights' as positional parameter(s) is deprecated since 0.13 and may be removed in the future. Please use keyword parameter(s) instead.\n",
      "  warnings.warn(\n",
      "/home/rbccps/.local/lib/python3.8/site-packages/torchvision/models/_utils.py:223: UserWarning: Arguments other than a weight enum or `None` for 'weights' are deprecated since 0.13 and may be removed in the future. The current behavior is equivalent to passing `weights=VGG11_BN_Weights.IMAGENET1K_V1`. You can also use `weights=VGG11_BN_Weights.DEFAULT` to get the most up-to-date weights.\n",
      "  warnings.warn(msg)\n",
      "load from detector_pretrain/model_best.pth step 240000\n",
      "load from selector_pretrain/model_best.pth step 270000\n",
      "load from refiner_pretrain/model_best.pth step 260000\n",
      "split video data/custom/video/volta_2.mp4 into images ...\n",
      "  0%|                                                  | 0/2030 [00:00<?, ?it/s]/home/rbccps/.local/lib/python3.8/site-packages/torch/functional.py:504: UserWarning: torch.meshgrid: in an upcoming release, it will be required to pass the indexing argument. (Triggered internally at ../aten/src/ATen/native/TensorShape.cpp:3483.)\n",
      "  return _VF.meshgrid(tensors, **kwargs)  # type: ignore[attr-defined]\n",
      "100%|███████████████████████████████████████| 2030/2030 [03:03<00:00, 11.04it/s]\n",
      "ffmpeg version 4.2.7-0ubuntu0.1 Copyright (c) 2000-2022 the FFmpeg developers\n",
      "  built with gcc 9 (Ubuntu 9.4.0-1ubuntu1~20.04.1)\n",
      "  configuration: --prefix=/usr --extra-version=0ubuntu0.1 --toolchain=hardened --libdir=/usr/lib/x86_64-linux-gnu --incdir=/usr/include/x86_64-linux-gnu --arch=amd64 --enable-gpl --disable-stripping --enable-avresample --disable-filter=resample --enable-avisynth --enable-gnutls --enable-ladspa --enable-libaom --enable-libass --enable-libbluray --enable-libbs2b --enable-libcaca --enable-libcdio --enable-libcodec2 --enable-libflite --enable-libfontconfig --enable-libfreetype --enable-libfribidi --enable-libgme --enable-libgsm --enable-libjack --enable-libmp3lame --enable-libmysofa --enable-libopenjpeg --enable-libopenmpt --enable-libopus --enable-libpulse --enable-librsvg --enable-librubberband --enable-libshine --enable-libsnappy --enable-libsoxr --enable-libspeex --enable-libssh --enable-libtheora --enable-libtwolame --enable-libvidstab --enable-libvorbis --enable-libvpx --enable-libwavpack --enable-libwebp --enable-libx265 --enable-libxml2 --enable-libxvid --enable-libzmq --enable-libzvbi --enable-lv2 --enable-omx --enable-openal --enable-opencl --enable-opengl --enable-sdl2 --enable-libdc1394 --enable-libdrm --enable-libiec61883 --enable-nvenc --enable-chromaprint --enable-frei0r --enable-libx264 --enable-shared\n",
      "  libavutil      56. 31.100 / 56. 31.100\n",
      "  libavcodec     58. 54.100 / 58. 54.100\n",
      "  libavformat    58. 29.100 / 58. 29.100\n",
      "  libavdevice    58.  8.100 / 58.  8.100\n",
      "  libavfilter     7. 57.100 /  7. 57.100\n",
      "  libavresample   4.  0.  0 /  4.  0.  0\n",
      "  libswscale      5.  5.100 /  5.  5.100\n",
      "  libswresample   3.  5.100 /  3.  5.100\n",
      "  libpostproc    55.  5.100 / 55.  5.100\n",
      "Input #0, image2, from 'data/custom/volta/test_2/images_out_smooth/%d-bbox.jpg':\n",
      "  Duration: 00:01:07.67, start: 0.000000, bitrate: N/A\n",
      "    Stream #0:0: Video: mjpeg (Baseline), yuvj420p(pc, bt470bg/unknown/unknown), 960x540 [SAR 1:1 DAR 16:9], 30 fps, 30 tbr, 30 tbn, 30 tbc\n",
      "Stream mapping:\n",
      "  Stream #0:0 -> #0:0 (mjpeg (native) -> h264 (libx264))\n",
      "Press [q] to stop, [?] for help\n",
      "\u001b[1;34m[swscaler @ 0x5613471cf580] \u001b[0m\u001b[0;33mdeprecated pixel format used, make sure you did set range correctly\n",
      "\u001b[0m\u001b[1;36m[libx264 @ 0x561346ce0940] \u001b[0musing SAR=1/1\n",
      "\u001b[1;36m[libx264 @ 0x561346ce0940] \u001b[0musing cpu capabilities: MMX2 SSE2Fast SSSE3 SSE4.2 AVX FMA3 BMI2 AVX2\n",
      "\u001b[1;36m[libx264 @ 0x561346ce0940] \u001b[0mprofile High, level 3.1\n",
      "\u001b[1;36m[libx264 @ 0x561346ce0940] \u001b[0m264 - core 155 r2917 0a84d98 - H.264/MPEG-4 AVC codec - Copyleft 2003-2018 - http://www.videolan.org/x264.html - options: cabac=1 ref=3 deblock=1:0:0 analyse=0x3:0x113 me=hex subme=7 psy=1 psy_rd=1.00:0.00 mixed_ref=1 me_range=16 chroma_me=1 trellis=1 8x8dct=1 cqm=0 deadzone=21,11 fast_pskip=1 chroma_qp_offset=-2 threads=12 lookahead_threads=2 sliced_threads=0 nr=0 decimate=1 interlaced=0 bluray_compat=0 constrained_intra=0 bframes=3 b_pyramid=2 b_adapt=1 b_bias=0 direct=1 weightb=1 open_gop=0 weightp=2 keyint=250 keyint_min=25 scenecut=40 intra_refresh=0 rc_lookahead=40 rc=crf mbtree=1 crf=23.0 qcomp=0.60 qpmin=0 qpmax=69 qpstep=4 ip_ratio=1.40 aq=1:1.00\n",
      "Output #0, mp4, to 'data/custom/volta/test_2/video.mp4':\n",
      "  Metadata:\n",
      "    encoder         : Lavf58.29.100\n",
      "    Stream #0:0: Video: h264 (libx264) (avc1 / 0x31637661), yuv420p, 960x540 [SAR 1:1 DAR 16:9], q=-1--1, 30 fps, 15360 tbn, 30 tbc\n",
      "    Metadata:\n",
      "      encoder         : Lavc58.54.100 libx264\n",
      "    Side data:\n",
      "      cpb: bitrate max/min/avg: 0/0/0 buffer size: 0 vbv_delay: -1\n",
      "frame= 2030 fps=164 q=-1.0 Lsize=   19761kB time=00:01:07.56 bitrate=2395.9kbits/s speed=5.47x    \n",
      "video:19737kB audio:0kB subtitle:0kB other streams:0kB global headers:0kB muxing overhead: 0.123764%\n",
      "\u001b[1;36m[libx264 @ 0x561346ce0940] \u001b[0mframe I:9     Avg QP:21.32  size: 30853\n",
      "\u001b[1;36m[libx264 @ 0x561346ce0940] \u001b[0mframe P:582   Avg QP:23.73  size: 16798\n",
      "\u001b[1;36m[libx264 @ 0x561346ce0940] \u001b[0mframe B:1439  Avg QP:25.17  size:  7057\n",
      "\u001b[1;36m[libx264 @ 0x561346ce0940] \u001b[0mconsecutive B-frames:  3.3%  4.4%  6.4% 85.9%\n",
      "\u001b[1;36m[libx264 @ 0x561346ce0940] \u001b[0mmb I  I16..4:  4.5% 90.0%  5.5%\n",
      "\u001b[1;36m[libx264 @ 0x561346ce0940] \u001b[0mmb P  I16..4:  4.5% 36.3%  2.6%  P16..4: 30.1%  9.5%  4.8%  0.0%  0.0%    skip:12.2%\n",
      "\u001b[1;36m[libx264 @ 0x561346ce0940] \u001b[0mmb B  I16..4:  1.2%  6.5%  0.6%  B16..8: 36.9%  7.9%  2.0%  direct: 2.1%  skip:42.8%  L0:46.4% L1:46.7% BI: 6.9%\n",
      "\u001b[1;36m[libx264 @ 0x561346ce0940] \u001b[0m8x8 transform intra:82.3% inter:82.5%\n",
      "\u001b[1;36m[libx264 @ 0x561346ce0940] \u001b[0mcoded y,uvDC,uvAC intra: 51.7% 46.0% 11.2% inter: 13.6% 20.3% 6.4%\n",
      "\u001b[1;36m[libx264 @ 0x561346ce0940] \u001b[0mi16 v,h,dc,p: 25% 34% 20% 21%\n",
      "\u001b[1;36m[libx264 @ 0x561346ce0940] \u001b[0mi8 v,h,dc,ddl,ddr,vr,hd,vl,hu: 20% 21% 48%  2%  2%  2%  2%  2%  2%\n",
      "\u001b[1;36m[libx264 @ 0x561346ce0940] \u001b[0mi4 v,h,dc,ddl,ddr,vr,hd,vl,hu: 20% 17% 27%  6%  6%  7%  6%  6%  5%\n",
      "\u001b[1;36m[libx264 @ 0x561346ce0940] \u001b[0mi8c dc,h,v,p: 54% 24% 21%  2%\n",
      "\u001b[1;36m[libx264 @ 0x561346ce0940] \u001b[0mWeighted P-Frames: Y:3.1% UV:0.7%\n",
      "\u001b[1;36m[libx264 @ 0x561346ce0940] \u001b[0mref P L0: 56.6% 10.7% 22.3% 10.2%  0.2%\n",
      "\u001b[1;36m[libx264 @ 0x561346ce0940] \u001b[0mref B L0: 83.7% 12.9%  3.4%\n",
      "\u001b[1;36m[libx264 @ 0x561346ce0940] \u001b[0mref B L1: 94.4%  5.6%\n",
      "\u001b[1;36m[libx264 @ 0x561346ce0940] \u001b[0mkb/s:2389.31\n"
     ]
    }
   ],
   "source": [
    "!python3 Gen6D/predict.py --cfg Gen6D/configs/gen6d_pretrain.yaml \\\n",
    "                  --database custom/volta \\\n",
    "                  --video data/custom/video/volta_2.mp4 \\\n",
    "                  --resolution 960 \\\n",
    "                  --output data/custom/volta/test_2"
   ]
  },
  {
   "cell_type": "code",
   "execution_count": 9,
   "metadata": {},
   "outputs": [
    {
     "name": "stdout",
     "output_type": "stream",
     "text": [
      "/home/rbccps/.local/lib/python3.8/site-packages/torchvision/models/_utils.py:135: UserWarning: Using 'weights' as positional parameter(s) is deprecated since 0.13 and may be removed in the future. Please use keyword parameter(s) instead.\n",
      "  warnings.warn(\n",
      "/home/rbccps/.local/lib/python3.8/site-packages/torchvision/models/_utils.py:223: UserWarning: Arguments other than a weight enum or `None` for 'weights' are deprecated since 0.13 and may be removed in the future. The current behavior is equivalent to passing `weights=VGG11_BN_Weights.IMAGENET1K_V1`. You can also use `weights=VGG11_BN_Weights.DEFAULT` to get the most up-to-date weights.\n",
      "  warnings.warn(msg)\n",
      "load from detector_pretrain/model_best.pth step 240000\n",
      "load from selector_pretrain/model_best.pth step 270000\n",
      "load from refiner_pretrain/model_best.pth step 260000\n",
      "split video data/custom/video/volta_2.mp4 into images ...\n",
      "  0%|                                                  | 0/2030 [00:00<?, ?it/s]/home/rbccps/.local/lib/python3.8/site-packages/torch/functional.py:504: UserWarning: torch.meshgrid: in an upcoming release, it will be required to pass the indexing argument. (Triggered internally at ../aten/src/ATen/native/TensorShape.cpp:3483.)\n",
      "  return _VF.meshgrid(tensors, **kwargs)  # type: ignore[attr-defined]\n",
      "100%|███████████████████████████████████████| 2030/2030 [02:55<00:00, 11.57it/s]\n",
      "ffmpeg version 4.2.7-0ubuntu0.1 Copyright (c) 2000-2022 the FFmpeg developers\n",
      "  built with gcc 9 (Ubuntu 9.4.0-1ubuntu1~20.04.1)\n",
      "  configuration: --prefix=/usr --extra-version=0ubuntu0.1 --toolchain=hardened --libdir=/usr/lib/x86_64-linux-gnu --incdir=/usr/include/x86_64-linux-gnu --arch=amd64 --enable-gpl --disable-stripping --enable-avresample --disable-filter=resample --enable-avisynth --enable-gnutls --enable-ladspa --enable-libaom --enable-libass --enable-libbluray --enable-libbs2b --enable-libcaca --enable-libcdio --enable-libcodec2 --enable-libflite --enable-libfontconfig --enable-libfreetype --enable-libfribidi --enable-libgme --enable-libgsm --enable-libjack --enable-libmp3lame --enable-libmysofa --enable-libopenjpeg --enable-libopenmpt --enable-libopus --enable-libpulse --enable-librsvg --enable-librubberband --enable-libshine --enable-libsnappy --enable-libsoxr --enable-libspeex --enable-libssh --enable-libtheora --enable-libtwolame --enable-libvidstab --enable-libvorbis --enable-libvpx --enable-libwavpack --enable-libwebp --enable-libx265 --enable-libxml2 --enable-libxvid --enable-libzmq --enable-libzvbi --enable-lv2 --enable-omx --enable-openal --enable-opencl --enable-opengl --enable-sdl2 --enable-libdc1394 --enable-libdrm --enable-libiec61883 --enable-nvenc --enable-chromaprint --enable-frei0r --enable-libx264 --enable-shared\n",
      "  libavutil      56. 31.100 / 56. 31.100\n",
      "  libavcodec     58. 54.100 / 58. 54.100\n",
      "  libavformat    58. 29.100 / 58. 29.100\n",
      "  libavdevice    58.  8.100 / 58.  8.100\n",
      "  libavfilter     7. 57.100 /  7. 57.100\n",
      "  libavresample   4.  0.  0 /  4.  0.  0\n",
      "  libswscale      5.  5.100 /  5.  5.100\n",
      "  libswresample   3.  5.100 /  3.  5.100\n",
      "  libpostproc    55.  5.100 / 55.  5.100\n",
      "Input #0, image2, from 'data/custom/volta/test_3/images_out_smooth/%d-bbox.jpg':\n",
      "  Duration: 00:01:07.67, start: 0.000000, bitrate: N/A\n",
      "    Stream #0:0: Video: mjpeg (Baseline), yuvj420p(pc, bt470bg/unknown/unknown), 960x540 [SAR 1:1 DAR 16:9], 30 fps, 30 tbr, 30 tbn, 30 tbc\n",
      "Stream mapping:\n",
      "  Stream #0:0 -> #0:0 (mjpeg (native) -> h264 (libx264))\n",
      "Press [q] to stop, [?] for help\n",
      "\u001b[1;34m[swscaler @ 0x55e67b451580] \u001b[0m\u001b[0;33mdeprecated pixel format used, make sure you did set range correctly\n",
      "\u001b[0m\u001b[1;36m[libx264 @ 0x55e67af62940] \u001b[0musing SAR=1/1\n",
      "\u001b[1;36m[libx264 @ 0x55e67af62940] \u001b[0musing cpu capabilities: MMX2 SSE2Fast SSSE3 SSE4.2 AVX FMA3 BMI2 AVX2\n",
      "\u001b[1;36m[libx264 @ 0x55e67af62940] \u001b[0mprofile High, level 3.1\n",
      "\u001b[1;36m[libx264 @ 0x55e67af62940] \u001b[0m264 - core 155 r2917 0a84d98 - H.264/MPEG-4 AVC codec - Copyleft 2003-2018 - http://www.videolan.org/x264.html - options: cabac=1 ref=3 deblock=1:0:0 analyse=0x3:0x113 me=hex subme=7 psy=1 psy_rd=1.00:0.00 mixed_ref=1 me_range=16 chroma_me=1 trellis=1 8x8dct=1 cqm=0 deadzone=21,11 fast_pskip=1 chroma_qp_offset=-2 threads=12 lookahead_threads=2 sliced_threads=0 nr=0 decimate=1 interlaced=0 bluray_compat=0 constrained_intra=0 bframes=3 b_pyramid=2 b_adapt=1 b_bias=0 direct=1 weightb=1 open_gop=0 weightp=2 keyint=250 keyint_min=25 scenecut=40 intra_refresh=0 rc_lookahead=40 rc=crf mbtree=1 crf=23.0 qcomp=0.60 qpmin=0 qpmax=69 qpstep=4 ip_ratio=1.40 aq=1:1.00\n",
      "Output #0, mp4, to 'data/custom/volta/test_3/video.mp4':\n",
      "  Metadata:\n",
      "    encoder         : Lavf58.29.100\n",
      "    Stream #0:0: Video: h264 (libx264) (avc1 / 0x31637661), yuv420p, 960x540 [SAR 1:1 DAR 16:9], q=-1--1, 30 fps, 15360 tbn, 30 tbc\n",
      "    Metadata:\n",
      "      encoder         : Lavc58.54.100 libx264\n",
      "    Side data:\n",
      "      cpb: bitrate max/min/avg: 0/0/0 buffer size: 0 vbv_delay: -1\n",
      "frame= 2030 fps=201 q=-1.0 Lsize=   19763kB time=00:01:07.56 bitrate=2396.1kbits/s speed=6.68x    \n",
      "video:19738kB audio:0kB subtitle:0kB other streams:0kB global headers:0kB muxing overhead: 0.123752%\n",
      "\u001b[1;36m[libx264 @ 0x55e67af62940] \u001b[0mframe I:9     Avg QP:21.32  size: 30853\n",
      "\u001b[1;36m[libx264 @ 0x55e67af62940] \u001b[0mframe P:582   Avg QP:23.73  size: 16798\n",
      "\u001b[1;36m[libx264 @ 0x55e67af62940] \u001b[0mframe B:1439  Avg QP:25.16  size:  7058\n",
      "\u001b[1;36m[libx264 @ 0x55e67af62940] \u001b[0mconsecutive B-frames:  3.3%  4.4%  6.4% 85.9%\n",
      "\u001b[1;36m[libx264 @ 0x55e67af62940] \u001b[0mmb I  I16..4:  4.5% 90.0%  5.5%\n",
      "\u001b[1;36m[libx264 @ 0x55e67af62940] \u001b[0mmb P  I16..4:  4.5% 36.3%  2.6%  P16..4: 30.2%  9.5%  4.7%  0.0%  0.0%    skip:12.2%\n",
      "\u001b[1;36m[libx264 @ 0x55e67af62940] \u001b[0mmb B  I16..4:  1.2%  6.6%  0.6%  B16..8: 36.9%  7.9%  2.0%  direct: 2.1%  skip:42.8%  L0:46.4% L1:46.7% BI: 6.9%\n",
      "\u001b[1;36m[libx264 @ 0x55e67af62940] \u001b[0m8x8 transform intra:82.3% inter:82.5%\n",
      "\u001b[1;36m[libx264 @ 0x55e67af62940] \u001b[0mcoded y,uvDC,uvAC intra: 51.7% 45.9% 11.2% inter: 13.6% 20.3% 6.4%\n",
      "\u001b[1;36m[libx264 @ 0x55e67af62940] \u001b[0mi16 v,h,dc,p: 25% 34% 20% 21%\n",
      "\u001b[1;36m[libx264 @ 0x55e67af62940] \u001b[0mi8 v,h,dc,ddl,ddr,vr,hd,vl,hu: 20% 21% 48%  2%  2%  2%  2%  2%  2%\n",
      "\u001b[1;36m[libx264 @ 0x55e67af62940] \u001b[0mi4 v,h,dc,ddl,ddr,vr,hd,vl,hu: 20% 17% 27%  6%  6%  7%  6%  6%  5%\n",
      "\u001b[1;36m[libx264 @ 0x55e67af62940] \u001b[0mi8c dc,h,v,p: 54% 24% 21%  2%\n",
      "\u001b[1;36m[libx264 @ 0x55e67af62940] \u001b[0mWeighted P-Frames: Y:3.1% UV:0.7%\n",
      "\u001b[1;36m[libx264 @ 0x55e67af62940] \u001b[0mref P L0: 56.6% 10.7% 22.4% 10.2%  0.2%\n",
      "\u001b[1;36m[libx264 @ 0x55e67af62940] \u001b[0mref B L0: 83.7% 12.9%  3.4%\n",
      "\u001b[1;36m[libx264 @ 0x55e67af62940] \u001b[0mref B L1: 94.4%  5.6%\n",
      "\u001b[1;36m[libx264 @ 0x55e67af62940] \u001b[0mkb/s:2389.53\n"
     ]
    }
   ],
   "source": [
    "!python3 Gen6D/predict.py --cfg Gen6D/configs/gen6d_pretrain.yaml \\\n",
    "                  --database custom/volta \\\n",
    "                  --video data/custom/video/volta_2.mp4 \\\n",
    "                  --resolution 960 \\\n",
    "                  --output data/custom/volta/test_3"
   ]
  },
  {
   "cell_type": "code",
   "execution_count": 10,
   "metadata": {},
   "outputs": [
    {
     "name": "stdout",
     "output_type": "stream",
     "text": [
      "/home/rbccps/.local/lib/python3.8/site-packages/torchvision/models/_utils.py:135: UserWarning: Using 'weights' as positional parameter(s) is deprecated since 0.13 and may be removed in the future. Please use keyword parameter(s) instead.\n",
      "  warnings.warn(\n",
      "/home/rbccps/.local/lib/python3.8/site-packages/torchvision/models/_utils.py:223: UserWarning: Arguments other than a weight enum or `None` for 'weights' are deprecated since 0.13 and may be removed in the future. The current behavior is equivalent to passing `weights=VGG11_BN_Weights.IMAGENET1K_V1`. You can also use `weights=VGG11_BN_Weights.DEFAULT` to get the most up-to-date weights.\n",
      "  warnings.warn(msg)\n",
      "load from detector_pretrain/model_best.pth step 240000\n",
      "load from selector_pretrain/model_best.pth step 270000\n",
      "load from refiner_pretrain/model_best.pth step 260000\n",
      "split video data/custom/video/bag1.MP4 into images ...\n",
      "  0%|                                                  | 0/6746 [00:00<?, ?it/s]/home/rbccps/.local/lib/python3.8/site-packages/torch/functional.py:504: UserWarning: torch.meshgrid: in an upcoming release, it will be required to pass the indexing argument. (Triggered internally at ../aten/src/ATen/native/TensorShape.cpp:3483.)\n",
      "  return _VF.meshgrid(tensors, **kwargs)  # type: ignore[attr-defined]\n",
      "100%|███████████████████████████████████████| 6746/6746 [12:20<00:00,  9.12it/s]\n",
      "ffmpeg version 4.2.7-0ubuntu0.1 Copyright (c) 2000-2022 the FFmpeg developers\n",
      "  built with gcc 9 (Ubuntu 9.4.0-1ubuntu1~20.04.1)\n",
      "  configuration: --prefix=/usr --extra-version=0ubuntu0.1 --toolchain=hardened --libdir=/usr/lib/x86_64-linux-gnu --incdir=/usr/include/x86_64-linux-gnu --arch=amd64 --enable-gpl --disable-stripping --enable-avresample --disable-filter=resample --enable-avisynth --enable-gnutls --enable-ladspa --enable-libaom --enable-libass --enable-libbluray --enable-libbs2b --enable-libcaca --enable-libcdio --enable-libcodec2 --enable-libflite --enable-libfontconfig --enable-libfreetype --enable-libfribidi --enable-libgme --enable-libgsm --enable-libjack --enable-libmp3lame --enable-libmysofa --enable-libopenjpeg --enable-libopenmpt --enable-libopus --enable-libpulse --enable-librsvg --enable-librubberband --enable-libshine --enable-libsnappy --enable-libsoxr --enable-libspeex --enable-libssh --enable-libtheora --enable-libtwolame --enable-libvidstab --enable-libvorbis --enable-libvpx --enable-libwavpack --enable-libwebp --enable-libx265 --enable-libxml2 --enable-libxvid --enable-libzmq --enable-libzvbi --enable-lv2 --enable-omx --enable-openal --enable-opencl --enable-opengl --enable-sdl2 --enable-libdc1394 --enable-libdrm --enable-libiec61883 --enable-nvenc --enable-chromaprint --enable-frei0r --enable-libx264 --enable-shared\n",
      "  libavutil      56. 31.100 / 56. 31.100\n",
      "  libavcodec     58. 54.100 / 58. 54.100\n",
      "  libavformat    58. 29.100 / 58. 29.100\n",
      "  libavdevice    58.  8.100 / 58.  8.100\n",
      "  libavfilter     7. 57.100 /  7. 57.100\n",
      "  libavresample   4.  0.  0 /  4.  0.  0\n",
      "  libswscale      5.  5.100 /  5.  5.100\n",
      "  libswresample   3.  5.100 /  3.  5.100\n",
      "  libpostproc    55.  5.100 / 55.  5.100\n",
      "Input #0, image2, from 'data/custom/volta/test_4/images_out_smooth/%d-bbox.jpg':\n",
      "  Duration: 00:03:44.87, start: 0.000000, bitrate: N/A\n",
      "    Stream #0:0: Video: mjpeg (Baseline), yuvj420p(pc, bt470bg/unknown/unknown), 960x540 [SAR 1:1 DAR 16:9], 30 fps, 30 tbr, 30 tbn, 30 tbc\n",
      "Stream mapping:\n",
      "  Stream #0:0 -> #0:0 (mjpeg (native) -> h264 (libx264))\n",
      "Press [q] to stop, [?] for help\n",
      "\u001b[1;34m[swscaler @ 0x557e58fe0200] \u001b[0m\u001b[0;33mdeprecated pixel format used, make sure you did set range correctly\n",
      "\u001b[0m\u001b[1;36m[libx264 @ 0x557e58ac4c80] \u001b[0musing SAR=1/1\n",
      "\u001b[1;36m[libx264 @ 0x557e58ac4c80] \u001b[0musing cpu capabilities: MMX2 SSE2Fast SSSE3 SSE4.2 AVX FMA3 BMI2 AVX2\n",
      "\u001b[1;36m[libx264 @ 0x557e58ac4c80] \u001b[0mprofile High, level 3.1\n",
      "\u001b[1;36m[libx264 @ 0x557e58ac4c80] \u001b[0m264 - core 155 r2917 0a84d98 - H.264/MPEG-4 AVC codec - Copyleft 2003-2018 - http://www.videolan.org/x264.html - options: cabac=1 ref=3 deblock=1:0:0 analyse=0x3:0x113 me=hex subme=7 psy=1 psy_rd=1.00:0.00 mixed_ref=1 me_range=16 chroma_me=1 trellis=1 8x8dct=1 cqm=0 deadzone=21,11 fast_pskip=1 chroma_qp_offset=-2 threads=12 lookahead_threads=2 sliced_threads=0 nr=0 decimate=1 interlaced=0 bluray_compat=0 constrained_intra=0 bframes=3 b_pyramid=2 b_adapt=1 b_bias=0 direct=1 weightb=1 open_gop=0 weightp=2 keyint=250 keyint_min=25 scenecut=40 intra_refresh=0 rc_lookahead=40 rc=crf mbtree=1 crf=23.0 qcomp=0.60 qpmin=0 qpmax=69 qpstep=4 ip_ratio=1.40 aq=1:1.00\n",
      "Output #0, mp4, to 'data/custom/volta/test_4/video.mp4':\n",
      "  Metadata:\n",
      "    encoder         : Lavf58.29.100\n",
      "    Stream #0:0: Video: h264 (libx264) (avc1 / 0x31637661), yuv420p, 960x540 [SAR 1:1 DAR 16:9], q=-1--1, 30 fps, 15360 tbn, 30 tbc\n",
      "    Metadata:\n",
      "      encoder         : Lavc58.54.100 libx264\n",
      "    Side data:\n",
      "      cpb: bitrate max/min/avg: 0/0/0 buffer size: 0 vbv_delay: -1\n",
      "frame= 6746 fps=223 q=-1.0 Lsize=   54780kB time=00:03:44.76 bitrate=1996.5kbits/s speed=7.45x    \n",
      "video:54699kB audio:0kB subtitle:0kB other streams:0kB global headers:0kB muxing overhead: 0.147377%\n",
      "\u001b[1;36m[libx264 @ 0x557e58ac4c80] \u001b[0mframe I:27    Avg QP:20.55  size:107452\n",
      "\u001b[1;36m[libx264 @ 0x557e58ac4c80] \u001b[0mframe P:1700  Avg QP:23.41  size: 22107\n",
      "\u001b[1;36m[libx264 @ 0x557e58ac4c80] \u001b[0mframe B:5019  Avg QP:29.27  size:  3094\n",
      "\u001b[1;36m[libx264 @ 0x557e58ac4c80] \u001b[0mconsecutive B-frames:  0.8%  0.1%  0.1% 99.1%\n",
      "\u001b[1;36m[libx264 @ 0x557e58ac4c80] \u001b[0mmb I  I16..4:  1.5% 95.2%  3.3%\n",
      "\u001b[1;36m[libx264 @ 0x557e58ac4c80] \u001b[0mmb P  I16..4:  0.5%  2.3%  0.1%  P16..4: 32.1% 17.4% 25.7%  0.0%  0.0%    skip:21.9%\n",
      "\u001b[1;36m[libx264 @ 0x557e58ac4c80] \u001b[0mmb B  I16..4:  0.0%  0.2%  0.1%  B16..8: 27.9%  4.7%  1.9%  direct: 1.4%  skip:63.7%  L0:53.5% L1:40.5% BI: 5.9%\n",
      "\u001b[1;36m[libx264 @ 0x557e58ac4c80] \u001b[0m8x8 transform intra:81.2% inter:96.2%\n",
      "\u001b[1;36m[libx264 @ 0x557e58ac4c80] \u001b[0mcoded y,uvDC,uvAC intra: 68.6% 49.5% 18.8% inter: 19.2% 5.2% 1.1%\n",
      "\u001b[1;36m[libx264 @ 0x557e58ac4c80] \u001b[0mi16 v,h,dc,p: 19% 30% 22% 29%\n",
      "\u001b[1;36m[libx264 @ 0x557e58ac4c80] \u001b[0mi8 v,h,dc,ddl,ddr,vr,hd,vl,hu: 10% 13% 55%  3%  3%  5%  4%  3%  4%\n",
      "\u001b[1;36m[libx264 @ 0x557e58ac4c80] \u001b[0mi4 v,h,dc,ddl,ddr,vr,hd,vl,hu: 16% 15% 27%  6%  6% 11%  6%  6%  6%\n",
      "\u001b[1;36m[libx264 @ 0x557e58ac4c80] \u001b[0mi8c dc,h,v,p: 57% 20% 21%  2%\n",
      "\u001b[1;36m[libx264 @ 0x557e58ac4c80] \u001b[0mWeighted P-Frames: Y:0.0% UV:0.0%\n",
      "\u001b[1;36m[libx264 @ 0x557e58ac4c80] \u001b[0mref P L0: 39.3%  9.5% 33.9% 17.3%\n",
      "\u001b[1;36m[libx264 @ 0x557e58ac4c80] \u001b[0mref B L0: 67.5% 23.7%  8.9%\n",
      "\u001b[1;36m[libx264 @ 0x557e58ac4c80] \u001b[0mref B L1: 87.8% 12.2%\n",
      "\u001b[1;36m[libx264 @ 0x557e58ac4c80] \u001b[0mkb/s:1992.69\n"
     ]
    }
   ],
   "source": [
    "!python3 Gen6D/predict.py --cfg Gen6D/configs/gen6d_pretrain.yaml \\\n",
    "                  --database custom/volta \\\n",
    "                  --video data/custom/video/bag1.MP4 \\\n",
    "                  --resolution 960 \\\n",
    "                  --output data/custom/volta/test_4"
   ]
  },
  {
   "cell_type": "code",
   "execution_count": 1,
   "metadata": {},
   "outputs": [],
   "source": [
    "!cd .."
   ]
  },
  {
   "cell_type": "code",
   "execution_count": 3,
   "metadata": {},
   "outputs": [
    {
     "name": "stdout",
     "output_type": "stream",
     "text": [
      "split video data/custom/video/new_volta.mp4 into images ...\n"
     ]
    }
   ],
   "source": [
    "!python3 Gen6D/prepare.py --action video2image \\\n",
    "                  --input data/custom/video/new_volta.mp4 \\\n",
    "                  --output data/custom/volta/img_texture_resize \\\n",
    "                  --frame_inter 10 \\\n",
    "                  --image_size 960 \\\n",
    "                  --transpose"
   ]
  },
  {
   "cell_type": "code",
   "execution_count": 5,
   "metadata": {},
   "outputs": [
    {
     "name": "stdout",
     "output_type": "stream",
     "text": [
      "split video data/custom/video/arm_pi_new.mp4 into images ...\n"
     ]
    }
   ],
   "source": [
    "!python3 Gen6D/prepare.py --action video2image \\\n",
    "                  --input data/custom/video/arm_pi_new.mp4 \\\n",
    "                  --output data/custom/arm_pi_new/images_1 \\\n",
    "                  --frame_inter 1 \\\n",
    "                  --image_size 540"
   ]
  },
  {
   "cell_type": "code",
   "execution_count": 3,
   "metadata": {},
   "outputs": [],
   "source": [
    "#!/usr/bin/python\n",
    "from PIL import Image\n",
    "import os, sys\n",
    "\n",
    "path = \"data/custom/arm_pi_new/images/\"\n",
    "dirs = os.listdir( path )\n",
    "\n",
    "def resize():\n",
    "    for item in dirs:\n",
    "        if os.path.isfile(path+item):\n",
    "            im = Image.open(path+item)\n",
    "            f, e = os.path.splitext(path+item)\n",
    "            imResize = im.resize((540,960))\n",
    "            imResize.save(f + ' resized.jpg', 'JPEG', quality=90)\n",
    "\n",
    "resize()"
   ]
  },
  {
   "cell_type": "code",
   "execution_count": 9,
   "metadata": {},
   "outputs": [
    {
     "name": "stdout",
     "output_type": "stream",
     "text": [
      "/home/rbccps/.local/lib/python3.8/site-packages/torchvision/models/_utils.py:135: UserWarning: Using 'weights' as positional parameter(s) is deprecated since 0.13 and may be removed in the future. Please use keyword parameter(s) instead.\n",
      "  warnings.warn(\n",
      "/home/rbccps/.local/lib/python3.8/site-packages/torchvision/models/_utils.py:223: UserWarning: Arguments other than a weight enum or `None` for 'weights' are deprecated since 0.13 and may be removed in the future. The current behavior is equivalent to passing `weights=VGG11_BN_Weights.IMAGENET1K_V1`. You can also use `weights=VGG11_BN_Weights.DEFAULT` to get the most up-to-date weights.\n",
      "  warnings.warn(msg)\n",
      "load from detector_pretrain/model_best.pth step 240000\n",
      "load from selector_pretrain/model_best.pth step 270000\n",
      "load from refiner_pretrain/model_best.pth step 260000\n",
      "Traceback (most recent call last):\n",
      "  File \"Gen6D/predict.py\", line 97, in <module>\n",
      "    main(args)\n",
      "  File \"Gen6D/predict.py\", line 32, in main\n",
      "    estimator.build(ref_database, split_type='all')\n",
      "  File \"/media/rbccps/Extreme SSD/Gen6D/Gen6D/estimator.py\", line 145, in build\n",
      "    ref_ids = select_reference_img_ids_fps(database, ref_ids_all, self.cfg['ref_view_num'])\n",
      "  File \"/media/rbccps/Extreme SSD/Gen6D/Gen6D/utils/database_utils.py\", line 115, in select_reference_img_ids_fps\n",
      "    poses = [database.get_pose(ref_id) for ref_id in ref_ids_all]\n",
      "  File \"/media/rbccps/Extreme SSD/Gen6D/Gen6D/utils/database_utils.py\", line 115, in <listcomp>\n",
      "    poses = [database.get_pose(ref_id) for ref_id in ref_ids_all]\n",
      "  File \"/media/rbccps/Extreme SSD/Gen6D/Gen6D/dataset/database.py\", line 290, in get_pose\n",
      "    return self.poses[img_id].copy()\n",
      "KeyError: '0'\n"
     ]
    }
   ],
   "source": [
    "!python3 Gen6D/predict.py --cfg Gen6D/configs/gen6d_pretrain.yaml \\\n",
    "                  --database custom/august_1_try \\\n",
    "                  --video data/custom/video/arm_pi_new.mp4 \\\n",
    "                  --resolution 540 \\\n",
    "                  --output data/custom/august_1_try/test"
   ]
  },
  {
   "cell_type": "code",
   "execution_count": 13,
   "metadata": {},
   "outputs": [
    {
     "name": "stdout",
     "output_type": "stream",
     "text": [
      "/home/rbccps/.local/lib/python3.8/site-packages/torchvision/models/_utils.py:135: UserWarning: Using 'weights' as positional parameter(s) is deprecated since 0.13 and may be removed in the future. Please use keyword parameter(s) instead.\n",
      "  warnings.warn(\n",
      "/home/rbccps/.local/lib/python3.8/site-packages/torchvision/models/_utils.py:223: UserWarning: Arguments other than a weight enum or `None` for 'weights' are deprecated since 0.13 and may be removed in the future. The current behavior is equivalent to passing `weights=VGG11_BN_Weights.IMAGENET1K_V1`. You can also use `weights=VGG11_BN_Weights.DEFAULT` to get the most up-to-date weights.\n",
      "  warnings.warn(msg)\n",
      "load from detector_pretrain/model_best.pth step 240000\n",
      "load from selector_pretrain/model_best.pth step 270000\n",
      "load from refiner_pretrain/model_best.pth step 260000\n",
      "  0%|                                                  | 0/1041 [00:00<?, ?it/s]/home/rbccps/.local/lib/python3.8/site-packages/torch/functional.py:504: UserWarning: torch.meshgrid: in an upcoming release, it will be required to pass the indexing argument. (Triggered internally at ../aten/src/ATen/native/TensorShape.cpp:3483.)\n",
      "  return _VF.meshgrid(tensors, **kwargs)  # type: ignore[attr-defined]\n",
      "100%|███████████████████████████████████████| 1041/1041 [07:26<00:00,  2.33it/s]\n",
      "linemod/phone gen6d_pretrain       add-0.1d 0.8156 prj-5 0.9664 \n",
      "\n"
     ]
    }
   ],
   "source": [
    "!python3 Gen6D/eval.py --cfg Gen6D/configs/gen6d_pretrain.yaml --object_name linemod/phone"
   ]
  },
  {
   "cell_type": "code",
   "execution_count": null,
   "metadata": {},
   "outputs": [],
   "source": [
    "!python3 Gen6D/LICENSEprepare.py --action sfm --database_name custom/arm_pi_pro --colmap <path-to-your-colmap-exe>"
   ]
  }
 ],
 "metadata": {
  "kernelspec": {
   "display_name": "Python 3",
   "language": "python",
   "name": "python3"
  },
  "language_info": {
   "codemirror_mode": {
    "name": "ipython",
    "version": 3
   },
   "file_extension": ".py",
   "mimetype": "text/x-python",
   "name": "python",
   "nbconvert_exporter": "python",
   "pygments_lexer": "ipython3",
   "version": "3.8.10"
  },
  "orig_nbformat": 4
 },
 "nbformat": 4,
 "nbformat_minor": 2
}
